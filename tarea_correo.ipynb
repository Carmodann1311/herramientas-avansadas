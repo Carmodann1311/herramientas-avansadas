{
  "nbformat": 4,
  "nbformat_minor": 0,
  "metadata": {
    "colab": {
      "provenance": [],
      "authorship_tag": "ABX9TyNnusvncJem4ZdThSB3Yzet",
      "include_colab_link": true
    },
    "kernelspec": {
      "name": "python3",
      "display_name": "Python 3"
    },
    "language_info": {
      "name": "python"
    }
  },
  "cells": [
    {
      "cell_type": "markdown",
      "metadata": {
        "id": "view-in-github",
        "colab_type": "text"
      },
      "source": [
        "<a href=\"https://colab.research.google.com/github/Carmodann1311/herramientas-avansadas/blob/main/tarea_correo.ipynb\" target=\"_parent\"><img src=\"https://colab.research.google.com/assets/colab-badge.svg\" alt=\"Open In Colab\"/></a>"
      ]
    },
    {
      "cell_type": "code",
      "source": [
        "from google.colab import userdata\n",
        "GMAIL_API = userdata.get('da13')"
      ],
      "metadata": {
        "id": "Zv9e1B1_6wV5"
      },
      "execution_count": 19,
      "outputs": []
    },
    {
      "cell_type": "code",
      "source": [
        "import pandas as pd\n",
        "\n",
        "# Generar un archivo CSV  con equipos de fútbol\n",
        "csv_filename = \"equipos_futbol.csv\"\n",
        "df = pd.DataFrame({\n",
        "    \"ID\": [1, 2, 3, 4],\n",
        "    \"Equipo\": [\"Real Madrid\", \"FC Barcelona\", \"Manchester United\", \"Boca Juniors\"],\n",
        "    \"Ciudad\": [\"Madrid\", \"Barcelona\", \"Manchester\", \"Buenos Aires\"],\n",
        "    \"País\": [\"España\", \"España\", \"Inglaterra\", \"Argentina\"],\n",
        "    \"Año_Fundación\": [1902, 1899, 1878, 1905],\n",
        "    \"Estadio\": [\"Santiago Bernabéu\", \"Camp Nou\", \"Old Trafford\", \"La Bombonera\"],\n",
        "    \"Jugadores_Clave\": [\"Karim Benzema, Luka Modric, Vinícius Jr.\",\n",
        "                        \"Lionel Messi, Sergio Busquets, Gerard Piqué\",\n",
        "                        \"Cristiano Ronaldo, Bruno Fernandes, Marcus Rashford\",\n",
        "                        \"Carlos Tévez, Juan Román Riquelme, Darío Benedetto\"]\n",
        "})\n",
        "\n",
        "# Guardar el DataFrame en un archivo CSV\n",
        "df.to_csv(csv_filename, index=False)\n",
        "\n",
        "# Confirmación\n",
        "print(f\"Archivo CSV '{csv_filename}' creado correctamente.\")\n",
        "\n",
        "df.to_csv(csv_filename, index=False)"
      ],
      "metadata": {
        "colab": {
          "base_uri": "https://localhost:8080/"
        },
        "id": "3f1zoZVS7iXn",
        "outputId": "23218631-b18e-4884-9e0a-29dd09387845"
      },
      "execution_count": 5,
      "outputs": [
        {
          "output_type": "stream",
          "name": "stdout",
          "text": [
            "Archivo CSV 'equipos_futbol.csv' creado correctamente.\n"
          ]
        }
      ]
    },
    {
      "cell_type": "code",
      "source": [
        "import smtplib\n",
        "from email.mime.multipart import MIMEMultipart\n",
        "from email.mime.text import MIMEText\n",
        "from email.mime.base import MIMEBase\n",
        "from email import encoders\n",
        "\n",
        "class EmailSender:\n",
        "    def __init__(self, smtp_username, smtp_password, smtp_server='smtp.gmail.com', smtp_port=587):\n",
        "        \"\"\"\n",
        "        Inicializa la clase con las credenciales de Gmail y configuración del servidor SMTP.\n",
        "        :param smtp_username: Correo del remitente (tu correo de Gmail).\n",
        "        :param smtp_password: Contraseña de la cuenta de Gmail o token de aplicación.\n",
        "        :param smtp_server: Servidor SMTP (por defecto 'smtp.gmail.com').\n",
        "        :param smtp_port: Puerto SMTP (por defecto 587).\n",
        "        \"\"\"\n",
        "        self.smtp_username = smtp_username\n",
        "        self.smtp_password = smtp_password\n",
        "        self.smtp_server = smtp_server\n",
        "        self.smtp_port = smtp_port\n",
        "\n",
        "    def send_email(self, sender_email, receiver_email, subject, body, attachment_path=None):\n",
        "        \"\"\"\n",
        "        Envía un correo electrónico con HTML y un archivo adjunto (si se proporciona).\n",
        "        :param sender_email: Correo del remitente.\n",
        "        :param receiver_email: Correo del destinatario.\n",
        "        :param subject: Asunto del correo.\n",
        "        :param body: Cuerpo del correo en formato HTML.\n",
        "        :param attachment_path: Ruta del archivo adjunto (opcional).\n",
        "        \"\"\"\n",
        "        # Crear el mensaje\n",
        "        message = MIMEMultipart()\n",
        "        message['From'] = sender_email\n",
        "        message['To'] = receiver_email\n",
        "        message['Subject'] = subject\n",
        "        message.attach(MIMEText(body, 'html'))\n",
        "\n",
        "        # Si se proporciona un archivo, adjuntarlo\n",
        "        if attachment_path:\n",
        "            self._attach_file(message, attachment_path)\n",
        "\n",
        "        # Enviar el mensaje a través de SMTP\n",
        "        try:\n",
        "            with smtplib.SMTP(self.smtp_server, self.smtp_port) as server:\n",
        "                server.starttls()  # Usar conexión segura (TLS)\n",
        "                server.login(self.smtp_username, self.smtp_password)\n",
        "                server.sendmail(sender_email, receiver_email, message.as_string())\n",
        "            print(f\"Correo enviado correctamente a {receiver_email}.\")\n",
        "        except Exception as e:\n",
        "            print(f\"Error al enviar el correo: {e}\")\n",
        "\n",
        "    def _attach_file(self, message, filepath):\n",
        "        \"\"\"\n",
        "        Adjunta un archivo al mensaje.\n",
        "        :param message: Mensaje al que se le adjuntará el archivo.\n",
        "        :param filepath: Ruta del archivo a adjuntar.\n",
        "        \"\"\"\n",
        "        try:\n",
        "            with open(filepath, 'rb') as attachment:\n",
        "                part = MIMEBase(\"application\", \"octet-stream\")\n",
        "                part.set_payload(attachment.read())\n",
        "                encoders.encode_base64(part)\n",
        "                part.add_header(\"Content-Disposition\", f\"attachment; filename={filepath.split('/')[-1]}\")\n",
        "                message.attach(part)\n",
        "        except FileNotFoundError:\n",
        "            print(f\"El archivo {filepath} no se encontró.\")\n",
        "        except Exception as e:\n",
        "            print(f\"Error al adjuntar el archivo: {e}\")\n",
        "\n",
        "# Uso de la clase\n",
        "\n",
        "def enviar_correo():\n",
        "    smtp_username = 'danielcar131101@gmail.com'  #correo de Gmail\n",
        "    smtp_password = 'daniel'  # contraseña o token de aplicación de Gmail\n",
        "\n",
        "    # Crear una instancia de EmailSender\n",
        "    sender = EmailSender(smtp_username, smtp_password)\n",
        "\n",
        "    # Datos del correo\n",
        "    sender_email = 'danielcar131101@gmail.com'\n",
        "    receiver_email = 'jrglezhdez.jrgh@gmail.com'\n",
        "    subject = 'hola jesus te envio este correo con un archvo ve si abre '\n",
        "    body = \"\"\"\n",
        "    <html>\n",
        "    <body>\n",
        "        <h2 style='color: red;'>hola jesus te envio este correo con un archvo ve si abre  📩</h2>\n",
        "        <p>Este es un email enviado con <b>Python y SMTP</b>.\n",
        "        Incluye un archivo csv como adjunto.</p>\n",
        "    </body>\n",
        "    </html>\n",
        "    \"\"\"\n",
        "    archivo_ruta = \"/content/equipos_futbol.csv\"  # Ruta del archivo\n",
        "\n",
        "    # Enviar el correo con archivo a\n",
        "    sender.send_email(sender_email, receiver_email, subject, body, archivo_ruta)"
      ],
      "metadata": {
        "id": "E9fGT7hE7igj"
      },
      "execution_count": 17,
      "outputs": []
    },
    {
      "cell_type": "code",
      "source": [
        "import smtplib\n",
        "from email.mime.multipart import MIMEMultipart\n",
        "from email.mime.text import MIMEText\n",
        "from email.mime.base import MIMEBase\n",
        "from email import encoders\n",
        "import os\n",
        "\n",
        "class EmailSender:\n",
        "    def __init__(self, smtp_username, smtp_password, smtp_server='smtp.gmail.com', smtp_port=587):\n",
        "        self.smtp_username = smtp_username\n",
        "        self.smtp_password = smtp_password\n",
        "        self.smtp_server = smtp_server\n",
        "        self.smtp_port = smtp_port\n",
        "\n",
        "    def send_email(self, sender_email, receiver_email, subject, body, attachment_path=None):\n",
        "        message = MIMEMultipart()\n",
        "        message['From'] = sender_email\n",
        "        message['To'] = receiver_email\n",
        "        message['Subject'] = subject\n",
        "        message.attach(MIMEText(body, 'html'))\n",
        "\n",
        "        if attachment_path and os.path.exists(attachment_path):\n",
        "            with open(attachment_path, 'rb') as attachment:\n",
        "                part = MIMEBase(\"application\", \"octet-stream\")\n",
        "                part.set_payload(attachment.read())\n",
        "                encoders.encode_base64(part)\n",
        "                part.add_header(\"Content-Disposition\", f'attachment; filename=\"{os.path.basename(attachment_path)}\"')\n",
        "                message.attach(part)\n",
        "        else:\n",
        "            print(f\"El archivo {attachment_path} no existe.\")\n",
        "            return\n",
        "\n",
        "        try:\n",
        "            with smtplib.SMTP(self.smtp_server, self.smtp_port) as server:\n",
        "                server.starttls()\n",
        "                server.login(self.smtp_username, self.smtp_password)\n",
        "                server.sendmail(sender_email, receiver_email, message.as_string())\n",
        "            print(f\"Correo enviado correctamente a {receiver_email}.\")\n",
        "        except Exception as e:\n",
        "            print(f\"Error al enviar el correo: {e}\")\n",
        "\n",
        "# Uso de la clase\n",
        "smtp_username = 'danielcar131101@gmail.com'\n",
        "smtp_password = 'da13'\n",
        "sender_email = 'danielcar131101@gmail.com'\n",
        "receiver_email = 'jrglezhdez.jrgh@gmail.com'\n",
        "subject = 'Archivo CSV Adjunto'\n",
        "body = \"\"\"\n",
        "<html>\n",
        "<body>\n",
        "    <h2>Correo con archivo CSV adjunto</h2>\n",
        "    <p>Adjunto encontrarás el archivo CSV solicitado.</p>\n",
        "</body>\n",
        "</html>\n",
        "\"\"\"\n",
        "archivo_ruta = \"/content/equipos_futbol.csv\"  # Cambia esto a la ubicación de tu archivo\n",
        "\n",
        "email_sender = EmailSender(smtp_username, smtp_password)\n",
        "email_sender.send_email(sender_email, receiver_email, subject, body, archivo_ruta)\n"
      ],
      "metadata": {
        "colab": {
          "base_uri": "https://localhost:8080/"
        },
        "id": "gd-W7oXWFewK",
        "outputId": "fa68ea4e-78c2-480b-899c-e3b55ab843c6"
      },
      "execution_count": 20,
      "outputs": [
        {
          "output_type": "stream",
          "name": "stdout",
          "text": [
            "Error al enviar el correo: (535, b'5.7.8 Username and Password not accepted. For more information, go to\\n5.7.8  https://support.google.com/mail/?p=BadCredentials d2e1a72fcca58-7390611c950sm2766155b3a.104 - gsmtp')\n"
          ]
        }
      ]
    }
  ]
}